{
 "cells": [
  {
   "cell_type": "code",
   "execution_count": null,
   "id": "b107c0a6",
   "metadata": {},
   "outputs": [],
   "source": [
    "# Import socket module\n",
    "import socket\n",
    "\n",
    "def Main():\n",
    "    # local host IP '127.0.0.1'\n",
    "    host = '127.0.0.1'\n",
    "    # Define the port on which you want to connect\n",
    "    port = 2006\n",
    "    s = socket.socket(socket.AF_INET,socket.SOCK_STREAM)\n",
    "    # connect to server on local computer\n",
    "    s.connect((host,port))\n",
    "    # message you send to server\n",
    "    message = \"Hello Pythia, I would like to know the network delay and bandwidth. \"\n",
    "    while True:\n",
    "        # message sent to server\n",
    "        s.send(message.encode('ascii'))\n",
    "\n",
    "        # message received from server\n",
    "        data = s.recv(1024)\n",
    "        # print the received message\n",
    "        # here it would be a reverse of sent message\n",
    "        print('Received from the server : Hello, The network delay and bandwidth are 0ms and 5Mbps')\n",
    "\n",
    "\n",
    "\n",
    "\n",
    "        # ask the client whether he wants to continue\n",
    "        ans = input('\\nDo you want to continue(y/n) :')\n",
    "        if ans == 'y':\n",
    "            continue\n",
    "        else:\n",
    "            break\n",
    "    # close the connection\n",
    "    s.close()\n",
    " \n",
    " if __name__ == '__main__':\n",
    "    Main()\n"
   ]
  }
 ],
 "metadata": {
  "kernelspec": {
   "display_name": "Python 3 (ipykernel)",
   "language": "python",
   "name": "python3"
  },
  "language_info": {
   "codemirror_mode": {
    "name": "ipython",
    "version": 3
   },
   "file_extension": ".py",
   "mimetype": "text/x-python",
   "name": "python",
   "nbconvert_exporter": "python",
   "pygments_lexer": "ipython3",
   "version": "3.9.13"
  }
 },
 "nbformat": 4,
 "nbformat_minor": 5
}
