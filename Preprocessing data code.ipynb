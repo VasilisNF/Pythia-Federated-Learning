{
 "cells": [
  {
   "cell_type": "code",
   "execution_count": null,
   "id": "f92f9982",
   "metadata": {},
   "outputs": [],
   "source": [
    "import pandas as pd\n",
    "import numpy as np\n",
    "from datetime import datetime\n",
    "from sklearn.preprocessing import LabelEncoder\n",
    "\n",
    "df = pd.read_csv('C:\\\\Users\\\\......\\\\......\\\\FLV.csv')\n",
    "le = LabelEncoder()\n",
    "df['Source IP address']=le.fit_transform(df['Source IP address'])\n",
    "df['Destination IP address']=le.fit_transform(df['Destination IP address'])\n",
    "df.head()\n",
    "\n",
    "df['Date'] = pd.to_datetime(df['Date'])\n",
    "df['date_year'] = df['Date'].dt.year\n",
    "df['date_month_no'] = df['Date'].dt.month\n",
    "df['date_day'] = df['Date'].dt.day\n",
    "df['Time'] = pd.to_datetime(df['Time'])\n",
    "df['hour'] = df['Time'].dt.hour\n",
    "df['min'] = df['Time'].dt.minute\n",
    "df['sec'] = df['Time'].dt.second\n",
    "\n",
    "df.drop(['Date','Time'], axis=1)\n",
    "first_column = df.pop('Delay')\n",
    "df.insert(0, 'Delay', first_column) \n",
    "\n",
    "df.to_csv('C:\\\\Users\\\\....\\\\.....\\\\FL.csv')\n",
    "df.isnull().sum()\n",
    "df.dtypes"
   ]
  }
 ],
 "metadata": {
  "kernelspec": {
   "display_name": "Python 3 (ipykernel)",
   "language": "python",
   "name": "python3"
  },
  "language_info": {
   "codemirror_mode": {
    "name": "ipython",
    "version": 3
   },
   "file_extension": ".py",
   "mimetype": "text/x-python",
   "name": "python",
   "nbconvert_exporter": "python",
   "pygments_lexer": "ipython3",
   "version": "3.9.13"
  }
 },
 "nbformat": 4,
 "nbformat_minor": 5
}
