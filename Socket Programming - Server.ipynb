{
 "cells": [
  {
   "cell_type": "code",
   "execution_count": null,
   "id": "7099f98c",
   "metadata": {},
   "outputs": [],
   "source": [
    "# import socket programming library\n",
    "import socket\n",
    " \n",
    "# import thread module\n",
    "from _thread import *\n",
    "import threading\n",
    " \n",
    "print_lock = threading.Lock()\n",
    " \n",
    "# thread function\n",
    "def threaded(c):\n",
    "    while True:\n",
    "        # data received from client\n",
    "        data = c.recv(1024)\n",
    "        if not data:\n",
    "            print('Bye')\n",
    "            # lock released on exit\n",
    "            print_lock.release()\n",
    "            break\n",
    "        # reverse the given string from client\n",
    "        data = data[::-1]\n",
    "        # send back reversed string to client\n",
    "        c.send(data)\n",
    "    # connection closed\n",
    "    c.close()\n",
    "\n",
    "def Main():\n",
    "    host = \"127.0.0.1\"\n",
    " \n",
    "    # reserve a port on your computer\n",
    "    port = 2006\n",
    "    s = socket.socket(socket.AF_INET, socket.SOCK_STREAM)\n",
    "    s.bind((host, port))\n",
    "    print(\"socket binded to port\", port)\n",
    " \n",
    "    # put the socket into listening mode\n",
    "    s.listen(5)\n",
    "    print(\"socket is listening\")\n",
    " \n",
    "    # a forever loop until client wants to exit\n",
    "    while True:\n",
    "        # establish connection with client\n",
    "        c, addr = s.accept()\n",
    " \n",
    "        # lock acquired by client\n",
    "        print_lock.acquire()\n",
    "        print('Connected to :', addr[0], ':', addr[1])\n",
    " \n",
    "        # Start a new thread and return its identifier\n",
    "        start_new_thread(threaded, (c,))\n",
    "    s.close()\n",
    " \n",
    "if __name__ == '__main__':\n",
    "    Main()\n"
   ]
  }
 ],
 "metadata": {
  "kernelspec": {
   "display_name": "Python 3 (ipykernel)",
   "language": "python",
   "name": "python3"
  },
  "language_info": {
   "codemirror_mode": {
    "name": "ipython",
    "version": 3
   },
   "file_extension": ".py",
   "mimetype": "text/x-python",
   "name": "python",
   "nbconvert_exporter": "python",
   "pygments_lexer": "ipython3",
   "version": "3.9.13"
  }
 },
 "nbformat": 4,
 "nbformat_minor": 5
}
