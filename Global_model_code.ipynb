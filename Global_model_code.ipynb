{
 "cells": [
  {
   "cell_type": "code",
   "execution_count": 635,
   "id": "5370fcfb",
   "metadata": {},
   "outputs": [],
   "source": [
    "import numpy as np\n",
    "import random\n",
    "import cv2\n",
    "import os\n",
    "import pandas as pd\n",
    "from sklearn.model_selection import train_test_split\n",
    "from sklearn.utils import shuffle\n",
    "from sklearn.metrics import accuracy_score\n",
    "\n",
    "import tensorflow as tf\n",
    "from tensorflow.keras.models import Sequential\n",
    "from tensorflow.keras.layers import Conv2D\n",
    "from tensorflow.keras.layers import MaxPooling2D\n",
    "from tensorflow.keras.layers import Activation\n",
    "from tensorflow.keras.layers import Dense\n",
    "from tensorflow.keras.layers import Dropout\n",
    "from tensorflow.keras.optimizers import SGD\n",
    "from tensorflow.keras import backend as K\n",
    "\n",
    "import import_ipynb\n",
    "from Server_code import *"
   ]
  },
  {
   "cell_type": "code",
   "execution_count": 480,
   "id": "5b7a7f10",
   "metadata": {},
   "outputs": [],
   "source": [
    "#split data into training and test set\n",
    "df = pd.read_csv('C:\\\\Users\\\\VasilisFermelis\\\\Desktop\\\\FL.csv')\n",
    "\n",
    "X = df.iloc[:,1:12]\n",
    "y = df.iloc[:,0] \n",
    "X_train,X_test,y_train,y_test = train_test_split(X,y,test_size=0.2,random_state=1)\n",
    "\n",
    "image_list = df.iloc[:,1:12]\n",
    "label_list = df.iloc[:,0] "
   ]
  },
  {
   "cell_type": "code",
   "execution_count": 481,
   "id": "50d4f45f",
   "metadata": {},
   "outputs": [],
   "source": [
    "#create clients\n",
    "clients = create_clients(X_train, y_train, num_clients=10, initial='client')"
   ]
  },
  {
   "cell_type": "code",
   "execution_count": 483,
   "id": "7c722fac",
   "metadata": {},
   "outputs": [
    {
     "data": {
      "text/plain": [
       "<BatchDataset element_spec=TensorSpec(shape=(None, 10), dtype=tf.string, name=None)>"
      ]
     },
     "execution_count": 483,
     "metadata": {},
     "output_type": "execute_result"
    }
   ],
   "source": [
    "#process and batch the training data for each client\n",
    "clients_batched = dict()\n",
    "for (client_name, df) in clients.items():\n",
    "    clients_batched[client_name] = batch_data(df)\n",
    "    \n",
    "#process and batch the test set  \n",
    "test_batched = tf.data.Dataset.from_tensor_slices((X_test, y_test)).batch(len(y_test))\n",
    "\n",
    "comms_round = 100\n",
    "batch_data(df)"
   ]
  },
  {
   "cell_type": "code",
   "execution_count": 497,
   "id": "69145dcb",
   "metadata": {},
   "outputs": [
    {
     "name": "stderr",
     "output_type": "stream",
     "text": [
      "C:\\Users\\VasilisFermelis\\anaconda3\\lib\\site-packages\\keras\\optimizers\\optimizer_v2\\gradient_descent.py:108: UserWarning: The `lr` argument is deprecated, use `learning_rate` instead.\n",
      "  super(SGD, self).__init__(name, **kwargs)\n"
     ]
    }
   ],
   "source": [
    "comms_round = 100\n",
    "#create optimizer\n",
    "lr = 0.1\n",
    "loss='mse'\n",
    "metrics = ['accuracy']\n",
    "optimizer = SGD(lr=lr, \n",
    "                decay=lr / comms_round, \n",
    "                momentum=0.9\n",
    "               ) "
   ]
  },
  {
   "cell_type": "code",
   "execution_count": 514,
   "id": "4868f260",
   "metadata": {},
   "outputs": [],
   "source": [
    "#initialize global model\n",
    "smlp_global = SimpleMLP()\n",
    "global_model = smlp_global.build(9, 1)\n",
    "\n",
    "#commence global training loop\n",
    "for comm_round in range(comms_round):\n",
    "            \n",
    "    # get the global model's weights - will serve as the initial weights for all local models\n",
    "    global_weights = global_model.get_weights()\n",
    "    \n",
    "    #initial list to collect local model weights after scalling\n",
    "    scaled_local_weight_list = list()\n",
    "\n",
    "    #randomize client data - using keys\n",
    "    client_names= list(clients_batched.keys())\n",
    "    random.shuffle(client_names)\n",
    "    \n",
    "    #loop through each client and create new local model\n",
    "    for client in client_names:\n",
    "        smlp_local = SimpleMLP()\n",
    "        local_model = smlp_local.build(9, 1)\n",
    "        local_model.compile(loss=loss, \n",
    "                      optimizer=optimizer, \n",
    "                      metrics=metrics)\n",
    "        \n",
    "        #set local model weight to the weight of the global model\n",
    "        local_model.set_weights(global_weights)"
   ]
  },
  {
   "cell_type": "code",
   "execution_count": 634,
   "id": "0758e6ed",
   "metadata": {},
   "outputs": [
    {
     "data": {
      "text/plain": [
       "<keras.callbacks.History at 0x216395a09d0>"
      ]
     },
     "execution_count": 634,
     "metadata": {},
     "output_type": "execute_result"
    }
   ],
   "source": [
    "#fit local model with client's data\n",
    "local_model.fit(X_train, y_train, batch_size=64, epochs=20, verbose=0)"
   ]
  },
  {
   "cell_type": "code",
   "execution_count": 521,
   "id": "49b06ec1",
   "metadata": {},
   "outputs": [],
   "source": [
    "#scale the model weights and add to list\n",
    "scaling_factor = weight_scalling_factor(clients_batched, client)\n",
    "scaled_weights = scale_model_weights(local_model.get_weights(), scaling_factor)\n",
    "scaled_local_weight_list.append(scaled_weights)\n",
    "        \n",
    "#clear session to free memory after each communication round\n",
    "K.clear_session()\n",
    "          \n",
    "#to get the average over all the local model, we simply take the sum of the scaled weights\n",
    "average_weights = sum_scaled_weights(scaled_local_weight_list)\n",
    "    \n",
    "#update global model \n",
    "global_model.set_weights(average_weights)"
   ]
  },
  {
   "cell_type": "code",
   "execution_count": 529,
   "id": "7c54e985",
   "metadata": {},
   "outputs": [
    {
     "name": "stdout",
     "output_type": "stream",
     "text": [
      "94/94 [==============================] - 0s 1ms/step - loss: 27.1772 - accuracy: 0.3535\n",
      "94/94 [==============================] - 0s 1ms/step\n"
     ]
    },
    {
     "data": {
      "text/plain": [
       "array([[0.],\n",
       "       [0.],\n",
       "       [0.],\n",
       "       ...,\n",
       "       [0.],\n",
       "       [0.],\n",
       "       [0.]], dtype=float32)"
      ]
     },
     "execution_count": 529,
     "metadata": {},
     "output_type": "execute_result"
    }
   ],
   "source": [
    "local_model.evaluate(X_test, y_test)\n",
    "local_model.predict(X_test)"
   ]
  },
  {
   "cell_type": "code",
   "execution_count": 578,
   "id": "66577320",
   "metadata": {},
   "outputs": [
    {
     "name": "stdout",
     "output_type": "stream",
     "text": [
      "1/1 [==============================] - 0s 26ms/step\n",
      "[[0.]]\n",
      "94/94 [==============================] - 0s 1ms/step\n"
     ]
    },
    {
     "data": {
      "text/plain": [
       "array([[0.],\n",
       "       [0.],\n",
       "       [0.],\n",
       "       ...,\n",
       "       [0.],\n",
       "       [0.],\n",
       "       [0.]], dtype=float32)"
      ]
     },
     "execution_count": 578,
     "metadata": {},
     "output_type": "execute_result"
    }
   ],
   "source": [
    "new_sample = [[55,18,1,2022,8,9,14,15,38]]\n",
    "output = local_model.predict(new_sample)\n",
    "print(output)"
   ]
  },
  {
   "cell_type": "code",
   "execution_count": 633,
   "id": "1248180a",
   "metadata": {},
   "outputs": [
    {
     "name": "stdout",
     "output_type": "stream",
     "text": [
      "94/94 [==============================] - 0s 1ms/step\n",
      "global_loss: 64.64874\n"
     ]
    }
   ],
   "source": [
    "#test global model and print out metrics after each communications round\n",
    "for(X_test, Y_test) in test_batched:\n",
    "    global_loss = test_model(X_test, y_test, global_model, comm_round)"
   ]
  },
  {
   "cell_type": "code",
   "execution_count": null,
   "id": "667f355a",
   "metadata": {},
   "outputs": [],
   "source": []
  }
 ],
 "metadata": {
  "kernelspec": {
   "display_name": "Python 3 (ipykernel)",
   "language": "python",
   "name": "python3"
  },
  "language_info": {
   "codemirror_mode": {
    "name": "ipython",
    "version": 3
   },
   "file_extension": ".py",
   "mimetype": "text/x-python",
   "name": "python",
   "nbconvert_exporter": "python",
   "pygments_lexer": "ipython3",
   "version": "3.9.12"
  }
 },
 "nbformat": 4,
 "nbformat_minor": 5
}
